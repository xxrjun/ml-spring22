{
  "nbformat": 4,
  "nbformat_minor": 0,
  "metadata": {
    "colab": {
      "name": "StockRNN-109403019.ipynb",
      "provenance": [],
      "collapsed_sections": [],
      "include_colab_link": true
    },
    "kernelspec": {
      "name": "python3",
      "display_name": "Python 3"
    },
    "accelerator": "GPU"
  },
  "cells": [
    {
      "cell_type": "markdown",
      "metadata": {
        "id": "view-in-github",
        "colab_type": "text"
      },
      "source": [
        "<a href=\"https://colab.research.google.com/github/xxrjun/ncu-ml-2022-spring/blob/master/StockRNN_109403019.ipynb\" target=\"_parent\"><img src=\"https://colab.research.google.com/assets/colab-badge.svg\" alt=\"Open In Colab\"/></a>"
      ]
    },
    {
      "cell_type": "markdown",
      "metadata": {
        "id": "iRAa8Hh-d4F3"
      },
      "source": [
        "![](https://i.imgur.com/3twMqGw.png)\n",
        "\n",
        "# 作業2 : 股票預測\n",
        "\n",
        "## **請挑選一家公司來做預測**\n",
        "\n",
        "資料集: [鉅亨網](https://www.cnyes.com/)\n",
        "\n",
        "> **資料集說明**\n",
        "\n",
        "別人恐懼我貪婪，一張不賣奇蹟來。\n",
        "\n",
        ">**作業說明**\n",
        "\n",
        "**第一步驟**: 左上角 檔案->在雲端硬碟建立副本。\n",
        "\n",
        "**第二步驟**: 右上角 共用->取得連結->任何知道這個連結的人都能編輯\n",
        "\n",
        "**第三步驟**: 左上角 執行階段->更變執行類型->GPU。 可以加快模型速度\n",
        "\n",
        "**第四步驟**: 檔案名稱，請填寫你的學號，把副本上下引號刪掉\n",
        "\n",
        "請 **隨意修改** 這個colab的程式來完成訓練RNN模型。**不必一定要照著todo提示走。**\n",
        "繳交時記得改檔案標題的學號。\n",
        "\n",
        "這次作業的重點在於RNN的維度問題。\n",
        "\n",
        "> **作業限制**\n",
        "\n",
        "1. 不要動資料集、不要在訓練時偷看test data\n",
        "2. 模型請手刻、手疊，**不要用Transfer Learning**，你可以手刻transformer。\n",
        "3. **不要抄襲**\n",
        "\n",
        "> **作業繳交**\n",
        "\n",
        "1. 完成訓練後保存output結果，更改**檔名學號**，左上角 檔案->下載 成ipynb檔。\n",
        "2. 交一個**pdf**檔，裡面需要附上**你的作業colab連結(設為可編輯、所有人觀看)**、姓名學號年級、過程和執行結果的截圖，並說明你程式撰寫的過程、本次作業心得(字數不限)。\n",
        "3. 上述三個檔案繳交至ee-class。(Text Generation、Stock、PDF)\n",
        "\n",
        "> **繳交期限**\n",
        "\n",
        "1. 電子商務技術(IM5002): 期限至2021/5/16(一) 23:59分\n",
        "2. 人工智慧與機器學習(IM3078): 期限至2022/5/16(一) 23:59分\n",
        "3. 電子商務智慧技術(IMA0200): 期限至2022/5/14(六) 23:59分\n",
        "\n",
        "> **算分標準**\n",
        "\n",
        "Text Generation(20) + Stock RNN(30) + Predict function(20分) + 30分文件\n",
        "1.  [Text Generation](https://colab.research.google.com/drive/1bMkAUaiivMaOr8Sd1Ui-KJeoFImEVUqA?usp=sharing) 換個其他資料集來訓練，完成就20分\n",
        "2. Stock RNN完成模型就30分\n",
        "3. predit function有寫出來就20分(第七段)\n",
        "4. 30分是文件分數\n",
        "5. 記得把以上評分標準截圖、並與你的心得一起貼上pdf\n",
        "\n",
        "有問題再來信助教: chiachentu@g.ncu.edu.tw(凃家甄)、lufor129@g.ncu.edu.tw(黃智輝)\n"
      ]
    },
    {
      "cell_type": "code",
      "metadata": {
        "id": "RURvH0RWNsOQ"
      },
      "source": [
        "# 太多人同時存取可能會報cannot retrieve file error\n",
        "# 點擊you may still be able to access 下面那個連結再自行上傳檔案即可\n",
        "\n",
        "import os\n",
        "\n",
        "if(os.path.isfile(\"./train.csv\") == False or os.path.isfile(\"./test.csv\") == False):\n",
        "  # !wget -O train.csv \"http://140.115.82.54/NN/Recurrent/train.csv\"\n",
        "  # !wget -O test.csv \"http://140.115.82.54/NN/Recurrent/test.csv\"\n",
        "  !gdown --id 1iK40K9oXsmhJGs7XSn7q3I1XuPtsZiSj --output \"./train.csv\"\n",
        "  !gdown --id 1kZIgeeTnzQf6GJGJuqOe9BgkFa8qb7hJ --output \"./test.csv\""
      ],
      "execution_count": null,
      "outputs": []
    },
    {
      "cell_type": "markdown",
      "metadata": {
        "id": "AopvjZOxYmky"
      },
      "source": [
        "## 1. 讀入Package"
      ]
    },
    {
      "cell_type": "code",
      "metadata": {
        "id": "Z6Z6H5ibOZg0"
      },
      "source": [
        "import tensorflow as tf\n",
        "from tensorflow import keras\n",
        "from tensorflow.keras import layers\n",
        "import numpy as np\n",
        "import matplotlib.pyplot as plt\n",
        "import pandas as pd\n",
        "import os\n",
        "import random\n",
        "import datetime\n",
        "from sklearn.preprocessing import MinMaxScaler"
      ],
      "execution_count": null,
      "outputs": []
    },
    {
      "cell_type": "markdown",
      "metadata": {
        "id": "1yeQBU3aYqzg"
      },
      "source": [
        "## 2. 取得資料集"
      ]
    },
    {
      "cell_type": "code",
      "metadata": {
        "id": "pF1xYGzJOiQJ",
        "colab": {
          "base_uri": "https://localhost:8080/",
          "height": 223
        },
        "outputId": "04e0bf9a-0a06-4736-939f-5b5d699e72ff"
      },
      "source": [
        "train_df = pd.read_csv(\"./train.csv\")\n",
        "train_df = train_df[::-1]\n",
        "print(\"company : \",train_df[\"company\"].unique())\n",
        "train_df.head()"
      ],
      "execution_count": null,
      "outputs": [
        {
          "output_type": "stream",
          "name": "stdout",
          "text": [
            "company :  [2317 2454 2330]\n"
          ]
        },
        {
          "output_type": "execute_result",
          "data": {
            "text/plain": [
              "      company      date  price\n",
              "6687     2317  2012/1/2   81.4\n",
              "6686     2317  2012/1/3   82.7\n",
              "6685     2317  2012/1/4   83.2\n",
              "6684     2317  2012/1/5   83.2\n",
              "6683     2317  2012/1/6   83.9"
            ],
            "text/html": [
              "\n",
              "  <div id=\"df-6200c972-84a8-4079-ae7b-ccfa7e344ad5\">\n",
              "    <div class=\"colab-df-container\">\n",
              "      <div>\n",
              "<style scoped>\n",
              "    .dataframe tbody tr th:only-of-type {\n",
              "        vertical-align: middle;\n",
              "    }\n",
              "\n",
              "    .dataframe tbody tr th {\n",
              "        vertical-align: top;\n",
              "    }\n",
              "\n",
              "    .dataframe thead th {\n",
              "        text-align: right;\n",
              "    }\n",
              "</style>\n",
              "<table border=\"1\" class=\"dataframe\">\n",
              "  <thead>\n",
              "    <tr style=\"text-align: right;\">\n",
              "      <th></th>\n",
              "      <th>company</th>\n",
              "      <th>date</th>\n",
              "      <th>price</th>\n",
              "    </tr>\n",
              "  </thead>\n",
              "  <tbody>\n",
              "    <tr>\n",
              "      <th>6687</th>\n",
              "      <td>2317</td>\n",
              "      <td>2012/1/2</td>\n",
              "      <td>81.4</td>\n",
              "    </tr>\n",
              "    <tr>\n",
              "      <th>6686</th>\n",
              "      <td>2317</td>\n",
              "      <td>2012/1/3</td>\n",
              "      <td>82.7</td>\n",
              "    </tr>\n",
              "    <tr>\n",
              "      <th>6685</th>\n",
              "      <td>2317</td>\n",
              "      <td>2012/1/4</td>\n",
              "      <td>83.2</td>\n",
              "    </tr>\n",
              "    <tr>\n",
              "      <th>6684</th>\n",
              "      <td>2317</td>\n",
              "      <td>2012/1/5</td>\n",
              "      <td>83.2</td>\n",
              "    </tr>\n",
              "    <tr>\n",
              "      <th>6683</th>\n",
              "      <td>2317</td>\n",
              "      <td>2012/1/6</td>\n",
              "      <td>83.9</td>\n",
              "    </tr>\n",
              "  </tbody>\n",
              "</table>\n",
              "</div>\n",
              "      <button class=\"colab-df-convert\" onclick=\"convertToInteractive('df-6200c972-84a8-4079-ae7b-ccfa7e344ad5')\"\n",
              "              title=\"Convert this dataframe to an interactive table.\"\n",
              "              style=\"display:none;\">\n",
              "        \n",
              "  <svg xmlns=\"http://www.w3.org/2000/svg\" height=\"24px\"viewBox=\"0 0 24 24\"\n",
              "       width=\"24px\">\n",
              "    <path d=\"M0 0h24v24H0V0z\" fill=\"none\"/>\n",
              "    <path d=\"M18.56 5.44l.94 2.06.94-2.06 2.06-.94-2.06-.94-.94-2.06-.94 2.06-2.06.94zm-11 1L8.5 8.5l.94-2.06 2.06-.94-2.06-.94L8.5 2.5l-.94 2.06-2.06.94zm10 10l.94 2.06.94-2.06 2.06-.94-2.06-.94-.94-2.06-.94 2.06-2.06.94z\"/><path d=\"M17.41 7.96l-1.37-1.37c-.4-.4-.92-.59-1.43-.59-.52 0-1.04.2-1.43.59L10.3 9.45l-7.72 7.72c-.78.78-.78 2.05 0 2.83L4 21.41c.39.39.9.59 1.41.59.51 0 1.02-.2 1.41-.59l7.78-7.78 2.81-2.81c.8-.78.8-2.07 0-2.86zM5.41 20L4 18.59l7.72-7.72 1.47 1.35L5.41 20z\"/>\n",
              "  </svg>\n",
              "      </button>\n",
              "      \n",
              "  <style>\n",
              "    .colab-df-container {\n",
              "      display:flex;\n",
              "      flex-wrap:wrap;\n",
              "      gap: 12px;\n",
              "    }\n",
              "\n",
              "    .colab-df-convert {\n",
              "      background-color: #E8F0FE;\n",
              "      border: none;\n",
              "      border-radius: 50%;\n",
              "      cursor: pointer;\n",
              "      display: none;\n",
              "      fill: #1967D2;\n",
              "      height: 32px;\n",
              "      padding: 0 0 0 0;\n",
              "      width: 32px;\n",
              "    }\n",
              "\n",
              "    .colab-df-convert:hover {\n",
              "      background-color: #E2EBFA;\n",
              "      box-shadow: 0px 1px 2px rgba(60, 64, 67, 0.3), 0px 1px 3px 1px rgba(60, 64, 67, 0.15);\n",
              "      fill: #174EA6;\n",
              "    }\n",
              "\n",
              "    [theme=dark] .colab-df-convert {\n",
              "      background-color: #3B4455;\n",
              "      fill: #D2E3FC;\n",
              "    }\n",
              "\n",
              "    [theme=dark] .colab-df-convert:hover {\n",
              "      background-color: #434B5C;\n",
              "      box-shadow: 0px 1px 3px 1px rgba(0, 0, 0, 0.15);\n",
              "      filter: drop-shadow(0px 1px 2px rgba(0, 0, 0, 0.3));\n",
              "      fill: #FFFFFF;\n",
              "    }\n",
              "  </style>\n",
              "\n",
              "      <script>\n",
              "        const buttonEl =\n",
              "          document.querySelector('#df-6200c972-84a8-4079-ae7b-ccfa7e344ad5 button.colab-df-convert');\n",
              "        buttonEl.style.display =\n",
              "          google.colab.kernel.accessAllowed ? 'block' : 'none';\n",
              "\n",
              "        async function convertToInteractive(key) {\n",
              "          const element = document.querySelector('#df-6200c972-84a8-4079-ae7b-ccfa7e344ad5');\n",
              "          const dataTable =\n",
              "            await google.colab.kernel.invokeFunction('convertToInteractive',\n",
              "                                                     [key], {});\n",
              "          if (!dataTable) return;\n",
              "\n",
              "          const docLinkHtml = 'Like what you see? Visit the ' +\n",
              "            '<a target=\"_blank\" href=https://colab.research.google.com/notebooks/data_table.ipynb>data table notebook</a>'\n",
              "            + ' to learn more about interactive tables.';\n",
              "          element.innerHTML = '';\n",
              "          dataTable['output_type'] = 'display_data';\n",
              "          await google.colab.output.renderOutput(dataTable, element);\n",
              "          const docLink = document.createElement('div');\n",
              "          docLink.innerHTML = docLinkHtml;\n",
              "          element.appendChild(docLink);\n",
              "        }\n",
              "      </script>\n",
              "    </div>\n",
              "  </div>\n",
              "  "
            ]
          },
          "metadata": {},
          "execution_count": 25
        }
      ]
    },
    {
      "cell_type": "code",
      "metadata": {
        "colab": {
          "base_uri": "https://localhost:8080/",
          "height": 223
        },
        "id": "gx0PFFHP3O2d",
        "outputId": "c6db4b97-0008-4027-b6d0-cabb623c4824"
      },
      "source": [
        "test_df = pd.read_csv(\"./test.csv\")\n",
        "test_df = test_df[::-1]\n",
        "print(\"test data shape : \",test_df.shape)\n",
        "test_df.head()"
      ],
      "execution_count": null,
      "outputs": [
        {
          "output_type": "stream",
          "name": "stdout",
          "text": [
            "test data shape :  (117, 3)\n"
          ]
        },
        {
          "output_type": "execute_result",
          "data": {
            "text/plain": [
              "     company      date  price\n",
              "116     2317  2021/2/1  113.0\n",
              "115     2317  2021/2/2  116.5\n",
              "114     2317  2021/2/3  116.5\n",
              "113     2317  2021/2/4  114.0\n",
              "112     2317  2021/2/5  113.5"
            ],
            "text/html": [
              "\n",
              "  <div id=\"df-9acd5f32-62fc-4255-888d-7063267a7cba\">\n",
              "    <div class=\"colab-df-container\">\n",
              "      <div>\n",
              "<style scoped>\n",
              "    .dataframe tbody tr th:only-of-type {\n",
              "        vertical-align: middle;\n",
              "    }\n",
              "\n",
              "    .dataframe tbody tr th {\n",
              "        vertical-align: top;\n",
              "    }\n",
              "\n",
              "    .dataframe thead th {\n",
              "        text-align: right;\n",
              "    }\n",
              "</style>\n",
              "<table border=\"1\" class=\"dataframe\">\n",
              "  <thead>\n",
              "    <tr style=\"text-align: right;\">\n",
              "      <th></th>\n",
              "      <th>company</th>\n",
              "      <th>date</th>\n",
              "      <th>price</th>\n",
              "    </tr>\n",
              "  </thead>\n",
              "  <tbody>\n",
              "    <tr>\n",
              "      <th>116</th>\n",
              "      <td>2317</td>\n",
              "      <td>2021/2/1</td>\n",
              "      <td>113.0</td>\n",
              "    </tr>\n",
              "    <tr>\n",
              "      <th>115</th>\n",
              "      <td>2317</td>\n",
              "      <td>2021/2/2</td>\n",
              "      <td>116.5</td>\n",
              "    </tr>\n",
              "    <tr>\n",
              "      <th>114</th>\n",
              "      <td>2317</td>\n",
              "      <td>2021/2/3</td>\n",
              "      <td>116.5</td>\n",
              "    </tr>\n",
              "    <tr>\n",
              "      <th>113</th>\n",
              "      <td>2317</td>\n",
              "      <td>2021/2/4</td>\n",
              "      <td>114.0</td>\n",
              "    </tr>\n",
              "    <tr>\n",
              "      <th>112</th>\n",
              "      <td>2317</td>\n",
              "      <td>2021/2/5</td>\n",
              "      <td>113.5</td>\n",
              "    </tr>\n",
              "  </tbody>\n",
              "</table>\n",
              "</div>\n",
              "      <button class=\"colab-df-convert\" onclick=\"convertToInteractive('df-9acd5f32-62fc-4255-888d-7063267a7cba')\"\n",
              "              title=\"Convert this dataframe to an interactive table.\"\n",
              "              style=\"display:none;\">\n",
              "        \n",
              "  <svg xmlns=\"http://www.w3.org/2000/svg\" height=\"24px\"viewBox=\"0 0 24 24\"\n",
              "       width=\"24px\">\n",
              "    <path d=\"M0 0h24v24H0V0z\" fill=\"none\"/>\n",
              "    <path d=\"M18.56 5.44l.94 2.06.94-2.06 2.06-.94-2.06-.94-.94-2.06-.94 2.06-2.06.94zm-11 1L8.5 8.5l.94-2.06 2.06-.94-2.06-.94L8.5 2.5l-.94 2.06-2.06.94zm10 10l.94 2.06.94-2.06 2.06-.94-2.06-.94-.94-2.06-.94 2.06-2.06.94z\"/><path d=\"M17.41 7.96l-1.37-1.37c-.4-.4-.92-.59-1.43-.59-.52 0-1.04.2-1.43.59L10.3 9.45l-7.72 7.72c-.78.78-.78 2.05 0 2.83L4 21.41c.39.39.9.59 1.41.59.51 0 1.02-.2 1.41-.59l7.78-7.78 2.81-2.81c.8-.78.8-2.07 0-2.86zM5.41 20L4 18.59l7.72-7.72 1.47 1.35L5.41 20z\"/>\n",
              "  </svg>\n",
              "      </button>\n",
              "      \n",
              "  <style>\n",
              "    .colab-df-container {\n",
              "      display:flex;\n",
              "      flex-wrap:wrap;\n",
              "      gap: 12px;\n",
              "    }\n",
              "\n",
              "    .colab-df-convert {\n",
              "      background-color: #E8F0FE;\n",
              "      border: none;\n",
              "      border-radius: 50%;\n",
              "      cursor: pointer;\n",
              "      display: none;\n",
              "      fill: #1967D2;\n",
              "      height: 32px;\n",
              "      padding: 0 0 0 0;\n",
              "      width: 32px;\n",
              "    }\n",
              "\n",
              "    .colab-df-convert:hover {\n",
              "      background-color: #E2EBFA;\n",
              "      box-shadow: 0px 1px 2px rgba(60, 64, 67, 0.3), 0px 1px 3px 1px rgba(60, 64, 67, 0.15);\n",
              "      fill: #174EA6;\n",
              "    }\n",
              "\n",
              "    [theme=dark] .colab-df-convert {\n",
              "      background-color: #3B4455;\n",
              "      fill: #D2E3FC;\n",
              "    }\n",
              "\n",
              "    [theme=dark] .colab-df-convert:hover {\n",
              "      background-color: #434B5C;\n",
              "      box-shadow: 0px 1px 3px 1px rgba(0, 0, 0, 0.15);\n",
              "      filter: drop-shadow(0px 1px 2px rgba(0, 0, 0, 0.3));\n",
              "      fill: #FFFFFF;\n",
              "    }\n",
              "  </style>\n",
              "\n",
              "      <script>\n",
              "        const buttonEl =\n",
              "          document.querySelector('#df-9acd5f32-62fc-4255-888d-7063267a7cba button.colab-df-convert');\n",
              "        buttonEl.style.display =\n",
              "          google.colab.kernel.accessAllowed ? 'block' : 'none';\n",
              "\n",
              "        async function convertToInteractive(key) {\n",
              "          const element = document.querySelector('#df-9acd5f32-62fc-4255-888d-7063267a7cba');\n",
              "          const dataTable =\n",
              "            await google.colab.kernel.invokeFunction('convertToInteractive',\n",
              "                                                     [key], {});\n",
              "          if (!dataTable) return;\n",
              "\n",
              "          const docLinkHtml = 'Like what you see? Visit the ' +\n",
              "            '<a target=\"_blank\" href=https://colab.research.google.com/notebooks/data_table.ipynb>data table notebook</a>'\n",
              "            + ' to learn more about interactive tables.';\n",
              "          element.innerHTML = '';\n",
              "          dataTable['output_type'] = 'display_data';\n",
              "          await google.colab.output.renderOutput(dataTable, element);\n",
              "          const docLink = document.createElement('div');\n",
              "          docLink.innerHTML = docLinkHtml;\n",
              "          element.appendChild(docLink);\n",
              "        }\n",
              "      </script>\n",
              "    </div>\n",
              "  </div>\n",
              "  "
            ]
          },
          "metadata": {},
          "execution_count": 26
        }
      ]
    },
    {
      "cell_type": "code",
      "metadata": {
        "id": "d4qpw9ZaOkIq"
      },
      "source": [
        "####################################\n",
        "#                 #\n",
        "# 自己決定三家公司哪家公司(填數字)#\n",
        "# 挑選一家公司來做訓練、預測   #\n",
        "#                 #\n",
        "#                 #\n",
        "####################################\n",
        "companys = {\"2330\":\"TSMC\",\"2454\":\"MEDIATEK\",\"2317\":\"FOXCONN\"}\n",
        "company_id = 2330"
      ],
      "execution_count": null,
      "outputs": []
    },
    {
      "cell_type": "code",
      "metadata": {
        "id": "6Qkjc3kHOoD8",
        "colab": {
          "base_uri": "https://localhost:8080/",
          "height": 237
        },
        "outputId": "738c7202-368d-4cbe-aede-ff3b5b75cabd"
      },
      "source": [
        "company = train_df[train_df[\"company\"] == company_id]\n",
        "company.index = company[\"date\"]\n",
        "company.head()"
      ],
      "execution_count": null,
      "outputs": [
        {
          "output_type": "execute_result",
          "data": {
            "text/plain": [
              "          company      date  price\n",
              "date                              \n",
              "2012/1/2     2330  2012/1/2   75.0\n",
              "2012/1/3     2330  2012/1/3   75.7\n",
              "2012/1/4     2330  2012/1/4   75.8\n",
              "2012/1/5     2330  2012/1/5   76.0\n",
              "2012/1/6     2330  2012/1/6   75.6"
            ],
            "text/html": [
              "\n",
              "  <div id=\"df-4527b564-258f-4818-8b8f-38c3cde1c316\">\n",
              "    <div class=\"colab-df-container\">\n",
              "      <div>\n",
              "<style scoped>\n",
              "    .dataframe tbody tr th:only-of-type {\n",
              "        vertical-align: middle;\n",
              "    }\n",
              "\n",
              "    .dataframe tbody tr th {\n",
              "        vertical-align: top;\n",
              "    }\n",
              "\n",
              "    .dataframe thead th {\n",
              "        text-align: right;\n",
              "    }\n",
              "</style>\n",
              "<table border=\"1\" class=\"dataframe\">\n",
              "  <thead>\n",
              "    <tr style=\"text-align: right;\">\n",
              "      <th></th>\n",
              "      <th>company</th>\n",
              "      <th>date</th>\n",
              "      <th>price</th>\n",
              "    </tr>\n",
              "    <tr>\n",
              "      <th>date</th>\n",
              "      <th></th>\n",
              "      <th></th>\n",
              "      <th></th>\n",
              "    </tr>\n",
              "  </thead>\n",
              "  <tbody>\n",
              "    <tr>\n",
              "      <th>2012/1/2</th>\n",
              "      <td>2330</td>\n",
              "      <td>2012/1/2</td>\n",
              "      <td>75.0</td>\n",
              "    </tr>\n",
              "    <tr>\n",
              "      <th>2012/1/3</th>\n",
              "      <td>2330</td>\n",
              "      <td>2012/1/3</td>\n",
              "      <td>75.7</td>\n",
              "    </tr>\n",
              "    <tr>\n",
              "      <th>2012/1/4</th>\n",
              "      <td>2330</td>\n",
              "      <td>2012/1/4</td>\n",
              "      <td>75.8</td>\n",
              "    </tr>\n",
              "    <tr>\n",
              "      <th>2012/1/5</th>\n",
              "      <td>2330</td>\n",
              "      <td>2012/1/5</td>\n",
              "      <td>76.0</td>\n",
              "    </tr>\n",
              "    <tr>\n",
              "      <th>2012/1/6</th>\n",
              "      <td>2330</td>\n",
              "      <td>2012/1/6</td>\n",
              "      <td>75.6</td>\n",
              "    </tr>\n",
              "  </tbody>\n",
              "</table>\n",
              "</div>\n",
              "      <button class=\"colab-df-convert\" onclick=\"convertToInteractive('df-4527b564-258f-4818-8b8f-38c3cde1c316')\"\n",
              "              title=\"Convert this dataframe to an interactive table.\"\n",
              "              style=\"display:none;\">\n",
              "        \n",
              "  <svg xmlns=\"http://www.w3.org/2000/svg\" height=\"24px\"viewBox=\"0 0 24 24\"\n",
              "       width=\"24px\">\n",
              "    <path d=\"M0 0h24v24H0V0z\" fill=\"none\"/>\n",
              "    <path d=\"M18.56 5.44l.94 2.06.94-2.06 2.06-.94-2.06-.94-.94-2.06-.94 2.06-2.06.94zm-11 1L8.5 8.5l.94-2.06 2.06-.94-2.06-.94L8.5 2.5l-.94 2.06-2.06.94zm10 10l.94 2.06.94-2.06 2.06-.94-2.06-.94-.94-2.06-.94 2.06-2.06.94z\"/><path d=\"M17.41 7.96l-1.37-1.37c-.4-.4-.92-.59-1.43-.59-.52 0-1.04.2-1.43.59L10.3 9.45l-7.72 7.72c-.78.78-.78 2.05 0 2.83L4 21.41c.39.39.9.59 1.41.59.51 0 1.02-.2 1.41-.59l7.78-7.78 2.81-2.81c.8-.78.8-2.07 0-2.86zM5.41 20L4 18.59l7.72-7.72 1.47 1.35L5.41 20z\"/>\n",
              "  </svg>\n",
              "      </button>\n",
              "      \n",
              "  <style>\n",
              "    .colab-df-container {\n",
              "      display:flex;\n",
              "      flex-wrap:wrap;\n",
              "      gap: 12px;\n",
              "    }\n",
              "\n",
              "    .colab-df-convert {\n",
              "      background-color: #E8F0FE;\n",
              "      border: none;\n",
              "      border-radius: 50%;\n",
              "      cursor: pointer;\n",
              "      display: none;\n",
              "      fill: #1967D2;\n",
              "      height: 32px;\n",
              "      padding: 0 0 0 0;\n",
              "      width: 32px;\n",
              "    }\n",
              "\n",
              "    .colab-df-convert:hover {\n",
              "      background-color: #E2EBFA;\n",
              "      box-shadow: 0px 1px 2px rgba(60, 64, 67, 0.3), 0px 1px 3px 1px rgba(60, 64, 67, 0.15);\n",
              "      fill: #174EA6;\n",
              "    }\n",
              "\n",
              "    [theme=dark] .colab-df-convert {\n",
              "      background-color: #3B4455;\n",
              "      fill: #D2E3FC;\n",
              "    }\n",
              "\n",
              "    [theme=dark] .colab-df-convert:hover {\n",
              "      background-color: #434B5C;\n",
              "      box-shadow: 0px 1px 3px 1px rgba(0, 0, 0, 0.15);\n",
              "      filter: drop-shadow(0px 1px 2px rgba(0, 0, 0, 0.3));\n",
              "      fill: #FFFFFF;\n",
              "    }\n",
              "  </style>\n",
              "\n",
              "      <script>\n",
              "        const buttonEl =\n",
              "          document.querySelector('#df-4527b564-258f-4818-8b8f-38c3cde1c316 button.colab-df-convert');\n",
              "        buttonEl.style.display =\n",
              "          google.colab.kernel.accessAllowed ? 'block' : 'none';\n",
              "\n",
              "        async function convertToInteractive(key) {\n",
              "          const element = document.querySelector('#df-4527b564-258f-4818-8b8f-38c3cde1c316');\n",
              "          const dataTable =\n",
              "            await google.colab.kernel.invokeFunction('convertToInteractive',\n",
              "                                                     [key], {});\n",
              "          if (!dataTable) return;\n",
              "\n",
              "          const docLinkHtml = 'Like what you see? Visit the ' +\n",
              "            '<a target=\"_blank\" href=https://colab.research.google.com/notebooks/data_table.ipynb>data table notebook</a>'\n",
              "            + ' to learn more about interactive tables.';\n",
              "          element.innerHTML = '';\n",
              "          dataTable['output_type'] = 'display_data';\n",
              "          await google.colab.output.renderOutput(dataTable, element);\n",
              "          const docLink = document.createElement('div');\n",
              "          docLink.innerHTML = docLinkHtml;\n",
              "          element.appendChild(docLink);\n",
              "        }\n",
              "      </script>\n",
              "    </div>\n",
              "  </div>\n",
              "  "
            ]
          },
          "metadata": {},
          "execution_count": 170
        }
      ]
    },
    {
      "cell_type": "code",
      "metadata": {
        "id": "LacIURDSOos0"
      },
      "source": [
        "def include_last_iter(start,end,step):\n",
        "  i = start\n",
        "  while i < end:\n",
        "      yield i\n",
        "      i += step\n",
        "  yield end-1"
      ],
      "execution_count": null,
      "outputs": []
    },
    {
      "cell_type": "code",
      "metadata": {
        "colab": {
          "base_uri": "https://localhost:8080/",
          "height": 537
        },
        "id": "ztReqaKGOpjl",
        "outputId": "e455ac51-681e-472c-d795-2d3661105d1e"
      },
      "source": [
        "plt.figure(figsize=(16, 8))\n",
        "plt.subplots_adjust(hspace=0.5)\n",
        "for index,c in enumerate(companys):\n",
        "  plt.subplot(2,2,index+1)\n",
        "  company_df = train_df[train_df[\"company\"] == int(c)]\n",
        "  plt.plot(company_df[\"date\"],company_df[\"price\"])\n",
        "  plt.xticks(list(include_last_iter(0,company_df.shape[0],250)),rotation=30)\n",
        "  plt.title(companys[c])\n",
        "  plt.xlabel(\"Date\")\n",
        "  plt.ylabel(\"price\")\n",
        "    \n",
        "plt.show()"
      ],
      "execution_count": null,
      "outputs": [
        {
          "output_type": "display_data",
          "data": {
            "text/plain": [
              "<Figure size 1152x576 with 3 Axes>"
            ],
            "image/png": "[encoded data removed]"
          },
          "metadata": {
            "needs_background": "light"
          }
        }
      ]
    },
    {
      "cell_type": "markdown",
      "metadata": {
        "id": "o-fbgns7YudB"
      },
      "source": [
        "## 3. 資料前處理"
      ]
    },
    {
      "cell_type": "code",
      "metadata": {
        "colab": {
          "base_uri": "https://localhost:8080/"
        },
        "id": "sg8bkUoMOsxG",
        "outputId": "0643312c-1461-4bef-bbd3-9c75c6fdb2ae"
      },
      "source": [
        "# 切分training data & validation data\n",
        "total_len = company.shape[0]\n",
        "training_len = 2100\n",
        "validation_data = total_len - training_len\n",
        "\n",
        "print(\"總共有 : \",total_len,\"筆\")\n",
        "print(\"訓練用 : (前)\",training_len,\"筆\")\n",
        "print(\"驗證用 : (後)\",validation_data,\"筆\")"
      ],
      "execution_count": null,
      "outputs": [
        {
          "output_type": "stream",
          "name": "stdout",
          "text": [
            "總共有 :  2232 筆\n",
            "訓練用 : (前) 2100 筆\n",
            "驗證用 : (後) 132 筆\n"
          ]
        }
      ]
    },
    {
      "cell_type": "code",
      "metadata": {
        "id": "ndsIf36gW0Wl"
      },
      "source": [
        "# 自己做 MinMax Transformer 前處理 \n",
        "class MinMaxTransformer:\n",
        "  def __init__(self):\n",
        "    self.min = None\n",
        "    self.max = None\n",
        "    self.distance = None\n",
        "\n",
        "  def fit(self,data):\n",
        "    self.min = min(data)\n",
        "    self.max = max(data)\n",
        "    self.distance = self.max - self.min\n",
        "    out = [(d-self.min)/self.distance for d in data]\n",
        "    return out\n",
        "\n",
        "  def recover(self,data):\n",
        "    out = [d*self.distance+self.min for d in data]\n",
        "    return out\n",
        "\n",
        "  def transform(self,data):\n",
        "    out = [(d-self.min)/self.distance for d in data]\n",
        "    return out\n",
        "\n",
        "  def transform_one(self,data):\n",
        "    return (data-self.min)/self.distance"
      ],
      "execution_count": null,
      "outputs": []
    },
    {
      "cell_type": "code",
      "metadata": {
        "id": "urZjG_kDOuTP"
      },
      "source": [
        "train_prices = company[\"price\"].values\n",
        "\n",
        "scalar = MinMaxTransformer()\n",
        "scalar_data = scalar.fit(train_prices)"
      ],
      "execution_count": null,
      "outputs": []
    },
    {
      "cell_type": "code",
      "metadata": {
        "colab": {
          "base_uri": "https://localhost:8080/"
        },
        "id": "vRXJt6sWizwT",
        "outputId": "e5387704-fe15-4993-803c-b9f495288b2b"
      },
      "source": [
        "# 做正規化\n",
        "print(\"origin data : \",train_prices[:5])\n",
        "print(\"transform data : \",scalar_data[:5])\n",
        "print(\"recover data : \",scalar.recover(scalar_data[:5]))"
      ],
      "execution_count": null,
      "outputs": [
        {
          "output_type": "stream",
          "name": "stdout",
          "text": [
            "origin data :  [75.  75.7 75.8 76.  75.6]\n",
            "transform data :  [0.00116919993318858, 0.00233839986637716, 0.0025054284282612325, 0.0028394855520294015, 0.002171371304493063]\n",
            "recover data :  [75.0, 75.7, 75.8, 76.0, 75.6]\n"
          ]
        }
      ]
    },
    {
      "cell_type": "code",
      "metadata": {
        "id": "Jcwp01DcVyCv"
      },
      "source": [
        "# 切分資料集\n",
        "training_data = scalar_data[:training_len]\n",
        "validation_data = scalar_data[training_len:]"
      ],
      "execution_count": null,
      "outputs": []
    },
    {
      "cell_type": "code",
      "metadata": {
        "id": "OGbPWD0bVT3j"
      },
      "source": [
        "# todo 決定Seq長度\n",
        "seq_len = 5\n",
        "\n",
        "def split_input_target(seq):\n",
        "  input_txt = tf.expand_dims(seq[:-1],-1)\n",
        "  target_txt = tf.expand_dims(seq[1:],-1)\n",
        "  return input_txt,target_txt"
      ],
      "execution_count": null,
      "outputs": []
    },
    {
      "cell_type": "code",
      "metadata": {
        "id": "HP47J0uvVcix"
      },
      "source": [
        "def make_ds(data):\n",
        "  data_slice = tf.data.Dataset.from_tensor_slices(data)\n",
        "  data_sequence = data_slice.batch(seq_len+1,drop_remainder=True)\n",
        "\n",
        "  dataset = data_sequence.map(split_input_target)\n",
        "  return dataset"
      ],
      "execution_count": null,
      "outputs": []
    },
    {
      "cell_type": "code",
      "metadata": {
        "id": "5ahh3yHx8f4u"
      },
      "source": [
        "# 製作資料集\n",
        "train_ds = make_ds(training_data)\n",
        "val_ds = make_ds(validation_data)\n",
        "\n",
        "# print(train_ds)\n",
        "\n",
        "# print(val_ds)\n",
        "\n",
        "# for input_example,target_exaple in train_ds.take(1):\n",
        "#   print(\"Input :\", scalar.recover(input_example.numpy()))\n",
        "#   print(\"Target:\", scalar.recover(target_exaple.numpy()))\n",
        "#   print(\"-\"*50)\n",
        "#   print(\"Input :\", input_example.numpy())\n",
        "#   print(\"Target:\", target_exaple.numpy())\n",
        "\n",
        "x_train = []\n",
        "y_train = []\n",
        "x_test = []\n",
        "y_test = []\n",
        "\n",
        "# Training Set\n",
        "for input_example, target_example in train_ds:\n",
        "  input = input_example.numpy()\n",
        "  target = target_example.numpy()\n",
        "\n",
        "  x_train.append(input)\n",
        "  y_train.append(target)\n",
        "\n",
        "# Validation\n",
        "for input_example, target_example in val_ds:\n",
        "  input = input_example.numpy()\n",
        "  target = target_example.numpy()\n",
        "\n",
        "  x_test.append(input)\n",
        "  y_test.append(target)\n",
        "\n",
        "\n",
        "# Why?????\n",
        "x_train = np.array(x_train)\n",
        "x_train = np.reshape(x_train, (x_train.shape[0], x_train.shape[1], 1))\n",
        "\n",
        "\n",
        "y_train = np.array(y_train)\n",
        "y_train = np.reshape(y_train, (y_train.shape[0], y_train.shape[1], 1))\n",
        "\n",
        "x_test = np.array(x_test)\n",
        "x_test = np.reshape(x_test, (x_test.shape[0], x_test.shape[1], 1))\n",
        "\n",
        "y_test = np.array(y_test)\n",
        "y_test = np.reshape(y_test, (y_test.shape[0], y_test.shape[1], 1))"
      ],
      "execution_count": null,
      "outputs": []
    },
    {
      "cell_type": "code",
      "metadata": {
        "id": "xfilEwW9843h"
      },
      "source": [
        "# Batch size\n",
        "# todo 決定Batch大小\n",
        "BATCH_SIZE = 32\n",
        "\n",
        "BUFFER_SIZE = training_len\n",
        "\n",
        "train_ds = train_ds.shuffle(BUFFER_SIZE).batch(BATCH_SIZE)\n",
        "val_ds = val_ds.batch(BATCH_SIZE)"
      ],
      "execution_count": null,
      "outputs": []
    },
    {
      "cell_type": "markdown",
      "metadata": {
        "id": "SSlabzCtaG3Y"
      },
      "source": [
        "## 4. 建立模型\n",
        "\n",
        "提示: Output是一個數值，所以Model output維度為1。\n",
        "\n",
        "* 輸入維度應為: (batch,seq_len,1)\n",
        "\n",
        "* 輸出維度應為: (batch,seq_len,1)\n",
        "\n",
        "**最後一層Dense不要加上任何activation function。**\n"
      ]
    },
    {
      "cell_type": "code",
      "metadata": {
        "id": "JJ-76DoZ9FG2",
        "colab": {
          "base_uri": "https://localhost:8080/"
        },
        "outputId": "314dfc21-0779-4d1f-b72f-dc51a14f053f"
      },
      "source": [
        "# todo\n",
        "input_shape = [BATCH_SIZE, seq_len, 1]\n",
        "output_shape = [BATCH_SIZE, seq_len, 1]\n",
        "\n",
        "lstm_units=512\n",
        "d = 0.2\n",
        "# layers_shape = [4, seq_len, 1] # feature, window, output\n",
        "\n",
        "keras.backend.clear_session()\n",
        "\n",
        "# Build model\n",
        "model = tf.keras.Sequential(\n",
        "    [\n",
        "      layers.LSTM(units=lstm_units, input_shape=(x_train.shape[1], x_train.shape[2]),return_sequences=True),      \n",
        "      layers.Dropout(d),\n",
        "      \n",
        "      layers.LSTM(units=lstm_units, return_sequences=True), \n",
        "      layers.Dropout(d),\n",
        "         \n",
        "      layers.LSTM(units=lstm_units, return_sequences=True),\n",
        "      layers.Dropout(d),\n",
        "     \n",
        "      layers.LSTM(units=lstm_units),\n",
        "     \n",
        "      layers.Dense(1),\n",
        "    ]\n",
        ")\n",
        "\n",
        "model.summary()"
      ],
      "execution_count": null,
      "outputs": [
        {
          "output_type": "stream",
          "name": "stdout",
          "text": [
            "Model: \"sequential\"\n",
            "_________________________________________________________________\n",
            " Layer (type)                Output Shape              Param #   \n",
            "=================================================================\n",
            " lstm (LSTM)                 (None, 5, 512)            1052672   \n",
            "                                                                 \n",
            " dropout (Dropout)           (None, 5, 512)            0         \n",
            "                                                                 \n",
            " lstm_1 (LSTM)               (None, 5, 512)            2099200   \n",
            "                                                                 \n",
            " dropout_1 (Dropout)         (None, 5, 512)            0         \n",
            "                                                                 \n",
            " lstm_2 (LSTM)               (None, 5, 512)            2099200   \n",
            "                                                                 \n",
            " dropout_2 (Dropout)         (None, 5, 512)            0         \n",
            "                                                                 \n",
            " lstm_3 (LSTM)               (None, 512)               2099200   \n",
            "                                                                 \n",
            " dense (Dense)               (None, 1)                 513       \n",
            "                                                                 \n",
            "=================================================================\n",
            "Total params: 7,350,785\n",
            "Trainable params: 7,350,785\n",
            "Non-trainable params: 0\n",
            "_________________________________________________________________\n"
          ]
        }
      ]
    },
    {
      "cell_type": "markdown",
      "metadata": {
        "id": "bsa9LxCcaJxN"
      },
      "source": [
        "## 5. 制定訓練計畫並訓練\n",
        "\n",
        "我們做數字相關預測，可以考慮用Mean_Squared_Error\n",
        "\n",
        "公式:\n",
        "$$MSE = \\frac{1}{n} \\sum_{i=1}^N({\\gamma-\\hat{\\gamma}})^2$$\n",
        "\n",
        "\n",
        "提示:\n",
        "不用管公式在幹嘛，compile帶入mean_squared_error。"
      ]
    },
    {
      "cell_type": "code",
      "metadata": {
        "id": "SIBlVYai-ZuU",
        "colab": {
          "base_uri": "https://localhost:8080/"
        },
        "outputId": "695f93d3-2e9f-49f7-86e9-6cb989a0946b"
      },
      "source": [
        "epochs = 50\n",
        "\n",
        "# adam = keras.optimizers.Adam(decay=0.2)\n",
        "model.compile(loss='mse', optimizer='adam')\n",
        "\n",
        "history = model.fit(\n",
        "    x_train,\n",
        "    y_train,\n",
        "    batch_size=BATCH_SIZE,\n",
        "    epochs=epochs,\n",
        "    validation_data=(x_test, y_test),\n",
        "    # validation_split=0.1,\n",
        "    shuffle=True,\n",
        "    # verbose=1\n",
        ")"
      ],
      "execution_count": null,
      "outputs": [
        {
          "output_type": "stream",
          "name": "stdout",
          "text": [
            "Epoch 1/50\n",
            "11/11 [==============================] - 9s 211ms/step - loss: 0.0130 - val_loss: 0.0275\n",
            "Epoch 2/50\n",
            "11/11 [==============================] - 0s 34ms/step - loss: 0.0013 - val_loss: 0.0064\n",
            "Epoch 3/50\n",
            "11/11 [==============================] - 0s 34ms/step - loss: 3.9327e-04 - val_loss: 8.1036e-04\n",
            "Epoch 4/50\n",
            "11/11 [==============================] - 0s 34ms/step - loss: 1.8368e-04 - val_loss: 8.7643e-04\n",
            "Epoch 5/50\n",
            "11/11 [==============================] - 0s 32ms/step - loss: 1.2879e-04 - val_loss: 0.0011\n",
            "Epoch 6/50\n",
            "11/11 [==============================] - 0s 31ms/step - loss: 9.7212e-05 - val_loss: 7.1292e-04\n",
            "Epoch 7/50\n",
            "11/11 [==============================] - 0s 31ms/step - loss: 1.3029e-04 - val_loss: 5.9215e-04\n",
            "Epoch 8/50\n",
            "11/11 [==============================] - 0s 31ms/step - loss: 1.1532e-04 - val_loss: 5.7027e-04\n",
            "Epoch 9/50\n",
            "11/11 [==============================] - 0s 31ms/step - loss: 1.1617e-04 - val_loss: 9.8046e-04\n",
            "Epoch 10/50\n",
            "11/11 [==============================] - 0s 31ms/step - loss: 1.5822e-04 - val_loss: 5.8635e-04\n",
            "Epoch 11/50\n",
            "11/11 [==============================] - 0s 30ms/step - loss: 1.9659e-04 - val_loss: 0.0018\n",
            "Epoch 12/50\n",
            "11/11 [==============================] - 0s 28ms/step - loss: 1.0724e-04 - val_loss: 5.5784e-04\n",
            "Epoch 13/50\n",
            "11/11 [==============================] - 0s 28ms/step - loss: 9.8391e-05 - val_loss: 8.5669e-04\n",
            "Epoch 14/50\n",
            "11/11 [==============================] - 0s 27ms/step - loss: 1.9952e-04 - val_loss: 7.7166e-04\n",
            "Epoch 15/50\n",
            "11/11 [==============================] - 0s 26ms/step - loss: 1.2944e-04 - val_loss: 5.5666e-04\n",
            "Epoch 16/50\n",
            "11/11 [==============================] - 0s 27ms/step - loss: 8.3078e-05 - val_loss: 0.0013\n",
            "Epoch 17/50\n",
            "11/11 [==============================] - 0s 28ms/step - loss: 7.9016e-05 - val_loss: 0.0015\n",
            "Epoch 18/50\n",
            "11/11 [==============================] - 0s 27ms/step - loss: 8.9034e-05 - val_loss: 9.0680e-04\n",
            "Epoch 19/50\n",
            "11/11 [==============================] - 0s 27ms/step - loss: 7.1826e-05 - val_loss: 5.0770e-04\n",
            "Epoch 20/50\n",
            "11/11 [==============================] - 0s 27ms/step - loss: 7.8388e-05 - val_loss: 5.4154e-04\n",
            "Epoch 21/50\n",
            "11/11 [==============================] - 0s 27ms/step - loss: 9.1511e-05 - val_loss: 8.5892e-04\n",
            "Epoch 22/50\n",
            "11/11 [==============================] - 0s 27ms/step - loss: 1.6208e-04 - val_loss: 0.0013\n",
            "Epoch 23/50\n",
            "11/11 [==============================] - 0s 27ms/step - loss: 1.5385e-04 - val_loss: 5.3194e-04\n",
            "Epoch 24/50\n",
            "11/11 [==============================] - 0s 27ms/step - loss: 9.6591e-05 - val_loss: 0.0021\n",
            "Epoch 25/50\n",
            "11/11 [==============================] - 0s 27ms/step - loss: 1.3042e-04 - val_loss: 0.0025\n",
            "Epoch 26/50\n",
            "11/11 [==============================] - 0s 27ms/step - loss: 8.1423e-05 - val_loss: 5.5731e-04\n",
            "Epoch 27/50\n",
            "11/11 [==============================] - 0s 27ms/step - loss: 7.6495e-05 - val_loss: 9.8331e-04\n",
            "Epoch 28/50\n",
            "11/11 [==============================] - 0s 27ms/step - loss: 9.2170e-05 - val_loss: 5.6862e-04\n",
            "Epoch 29/50\n",
            "11/11 [==============================] - 0s 26ms/step - loss: 1.0636e-04 - val_loss: 8.9685e-04\n",
            "Epoch 30/50\n",
            "11/11 [==============================] - 0s 26ms/step - loss: 8.6256e-05 - val_loss: 0.0010\n",
            "Epoch 31/50\n",
            "11/11 [==============================] - 0s 26ms/step - loss: 9.2058e-05 - val_loss: 0.0017\n",
            "Epoch 32/50\n",
            "11/11 [==============================] - 0s 27ms/step - loss: 7.8854e-05 - val_loss: 4.8643e-04\n",
            "Epoch 33/50\n",
            "11/11 [==============================] - 0s 27ms/step - loss: 9.7979e-05 - val_loss: 5.9429e-04\n",
            "Epoch 34/50\n",
            "11/11 [==============================] - 0s 27ms/step - loss: 8.4059e-05 - val_loss: 6.5345e-04\n",
            "Epoch 35/50\n",
            "11/11 [==============================] - 0s 26ms/step - loss: 1.4693e-04 - val_loss: 4.8631e-04\n",
            "Epoch 36/50\n",
            "11/11 [==============================] - 0s 27ms/step - loss: 1.2610e-04 - val_loss: 0.0020\n",
            "Epoch 37/50\n",
            "11/11 [==============================] - 0s 27ms/step - loss: 1.2182e-04 - val_loss: 0.0017\n",
            "Epoch 38/50\n",
            "11/11 [==============================] - 0s 27ms/step - loss: 6.1950e-05 - val_loss: 0.0018\n",
            "Epoch 39/50\n",
            "11/11 [==============================] - 0s 27ms/step - loss: 7.0565e-05 - val_loss: 0.0015\n",
            "Epoch 40/50\n",
            "11/11 [==============================] - 0s 26ms/step - loss: 1.1740e-04 - val_loss: 0.0011\n",
            "Epoch 41/50\n",
            "11/11 [==============================] - 0s 27ms/step - loss: 6.0547e-05 - val_loss: 0.0010\n",
            "Epoch 42/50\n",
            "11/11 [==============================] - 0s 28ms/step - loss: 7.1192e-05 - val_loss: 6.2595e-04\n",
            "Epoch 43/50\n",
            "11/11 [==============================] - 0s 27ms/step - loss: 1.5243e-04 - val_loss: 9.9869e-04\n",
            "Epoch 44/50\n",
            "11/11 [==============================] - 0s 29ms/step - loss: 7.5379e-05 - val_loss: 5.9007e-04\n",
            "Epoch 45/50\n",
            "11/11 [==============================] - 0s 27ms/step - loss: 6.0777e-05 - val_loss: 4.4920e-04\n",
            "Epoch 46/50\n",
            "11/11 [==============================] - 0s 27ms/step - loss: 6.0879e-05 - val_loss: 5.1598e-04\n",
            "Epoch 47/50\n",
            "11/11 [==============================] - 0s 27ms/step - loss: 5.8393e-05 - val_loss: 4.4486e-04\n",
            "Epoch 48/50\n",
            "11/11 [==============================] - 0s 28ms/step - loss: 6.2863e-05 - val_loss: 5.3695e-04\n",
            "Epoch 49/50\n",
            "11/11 [==============================] - 0s 27ms/step - loss: 6.8186e-05 - val_loss: 8.4565e-04\n",
            "Epoch 50/50\n",
            "11/11 [==============================] - 0s 27ms/step - loss: 9.3840e-05 - val_loss: 4.3600e-04\n"
          ]
        }
      ]
    },
    {
      "cell_type": "code",
      "source": [
        "model.evaluate(x_test, y_test)"
      ],
      "metadata": {
        "colab": {
          "base_uri": "https://localhost:8080/"
        },
        "id": "m8I9MrhDCJjE",
        "outputId": "70ba73e0-2000-405e-dbcc-47627217d85b"
      },
      "execution_count": null,
      "outputs": [
        {
          "output_type": "stream",
          "name": "stdout",
          "text": [
            "1/1 [==============================] - 0s 37ms/step - loss: 4.3600e-04\n"
          ]
        },
        {
          "output_type": "execute_result",
          "data": {
            "text/plain": [
              "0.0004360012826509774"
            ]
          },
          "metadata": {},
          "execution_count": 422
        }
      ]
    },
    {
      "cell_type": "markdown",
      "metadata": {
        "id": "4fLe9uGZaMBJ"
      },
      "source": [
        "## 6. 評估模型"
      ]
    },
    {
      "cell_type": "code",
      "metadata": {
        "id": "j3T68McvCkcl",
        "colab": {
          "base_uri": "https://localhost:8080/",
          "height": 295
        },
        "outputId": "e08c4655-a091-461e-aead-5fecbc8617bd"
      },
      "source": [
        "l1, = plt.plot(history.history['loss'])\n",
        "l2, = plt.plot(history.history['val_loss'])\n",
        "plt.legend(handles=[l1,l2],labels=['loss','val_loss'],loc='best')\n",
        "plt.title('model loss')\n",
        "plt.ylabel('loss')\n",
        "plt.xlabel('epoch')\n",
        "\n",
        "plt.show()"
      ],
      "execution_count": null,
      "outputs": [
        {
          "output_type": "display_data",
          "data": {
            "text/plain": [
              "<Figure size 432x288 with 1 Axes>"
            ],
            "image/png": "[encoded data removed]"
          },
          "metadata": {
            "needs_background": "light"
          }
        }
      ]
    },
    {
      "cell_type": "code",
      "metadata": {
        "id": "CUoUTu8KC_Sq",
        "colab": {
          "base_uri": "https://localhost:8080/",
          "height": 206
        },
        "outputId": "4b31bb44-2d50-4358-bdd1-459f00974771"
      },
      "source": [
        "test_company = test_df[test_df[\"company\"] == company_id]\n",
        "test_company.head()"
      ],
      "execution_count": null,
      "outputs": [
        {
          "output_type": "execute_result",
          "data": {
            "text/plain": [
              "    company      date  price\n",
              "38     2330  2021/2/1  611.0\n",
              "37     2330  2021/2/2  632.0\n",
              "36     2330  2021/2/3  630.0\n",
              "35     2330  2021/2/4  627.0\n",
              "34     2330  2021/2/5  632.0"
            ],
            "text/html": [
              "\n",
              "  <div id=\"df-2c5a1ac9-b1aa-4793-b5fc-184b402f013d\">\n",
              "    <div class=\"colab-df-container\">\n",
              "      <div>\n",
              "<style scoped>\n",
              "    .dataframe tbody tr th:only-of-type {\n",
              "        vertical-align: middle;\n",
              "    }\n",
              "\n",
              "    .dataframe tbody tr th {\n",
              "        vertical-align: top;\n",
              "    }\n",
              "\n",
              "    .dataframe thead th {\n",
              "        text-align: right;\n",
              "    }\n",
              "</style>\n",
              "<table border=\"1\" class=\"dataframe\">\n",
              "  <thead>\n",
              "    <tr style=\"text-align: right;\">\n",
              "      <th></th>\n",
              "      <th>company</th>\n",
              "      <th>date</th>\n",
              "      <th>price</th>\n",
              "    </tr>\n",
              "  </thead>\n",
              "  <tbody>\n",
              "    <tr>\n",
              "      <th>38</th>\n",
              "      <td>2330</td>\n",
              "      <td>2021/2/1</td>\n",
              "      <td>611.0</td>\n",
              "    </tr>\n",
              "    <tr>\n",
              "      <th>37</th>\n",
              "      <td>2330</td>\n",
              "      <td>2021/2/2</td>\n",
              "      <td>632.0</td>\n",
              "    </tr>\n",
              "    <tr>\n",
              "      <th>36</th>\n",
              "      <td>2330</td>\n",
              "      <td>2021/2/3</td>\n",
              "      <td>630.0</td>\n",
              "    </tr>\n",
              "    <tr>\n",
              "      <th>35</th>\n",
              "      <td>2330</td>\n",
              "      <td>2021/2/4</td>\n",
              "      <td>627.0</td>\n",
              "    </tr>\n",
              "    <tr>\n",
              "      <th>34</th>\n",
              "      <td>2330</td>\n",
              "      <td>2021/2/5</td>\n",
              "      <td>632.0</td>\n",
              "    </tr>\n",
              "  </tbody>\n",
              "</table>\n",
              "</div>\n",
              "      <button class=\"colab-df-convert\" onclick=\"convertToInteractive('df-2c5a1ac9-b1aa-4793-b5fc-184b402f013d')\"\n",
              "              title=\"Convert this dataframe to an interactive table.\"\n",
              "              style=\"display:none;\">\n",
              "        \n",
              "  <svg xmlns=\"http://www.w3.org/2000/svg\" height=\"24px\"viewBox=\"0 0 24 24\"\n",
              "       width=\"24px\">\n",
              "    <path d=\"M0 0h24v24H0V0z\" fill=\"none\"/>\n",
              "    <path d=\"M18.56 5.44l.94 2.06.94-2.06 2.06-.94-2.06-.94-.94-2.06-.94 2.06-2.06.94zm-11 1L8.5 8.5l.94-2.06 2.06-.94-2.06-.94L8.5 2.5l-.94 2.06-2.06.94zm10 10l.94 2.06.94-2.06 2.06-.94-2.06-.94-.94-2.06-.94 2.06-2.06.94z\"/><path d=\"M17.41 7.96l-1.37-1.37c-.4-.4-.92-.59-1.43-.59-.52 0-1.04.2-1.43.59L10.3 9.45l-7.72 7.72c-.78.78-.78 2.05 0 2.83L4 21.41c.39.39.9.59 1.41.59.51 0 1.02-.2 1.41-.59l7.78-7.78 2.81-2.81c.8-.78.8-2.07 0-2.86zM5.41 20L4 18.59l7.72-7.72 1.47 1.35L5.41 20z\"/>\n",
              "  </svg>\n",
              "      </button>\n",
              "      \n",
              "  <style>\n",
              "    .colab-df-container {\n",
              "      display:flex;\n",
              "      flex-wrap:wrap;\n",
              "      gap: 12px;\n",
              "    }\n",
              "\n",
              "    .colab-df-convert {\n",
              "      background-color: #E8F0FE;\n",
              "      border: none;\n",
              "      border-radius: 50%;\n",
              "      cursor: pointer;\n",
              "      display: none;\n",
              "      fill: #1967D2;\n",
              "      height: 32px;\n",
              "      padding: 0 0 0 0;\n",
              "      width: 32px;\n",
              "    }\n",
              "\n",
              "    .colab-df-convert:hover {\n",
              "      background-color: #E2EBFA;\n",
              "      box-shadow: 0px 1px 2px rgba(60, 64, 67, 0.3), 0px 1px 3px 1px rgba(60, 64, 67, 0.15);\n",
              "      fill: #174EA6;\n",
              "    }\n",
              "\n",
              "    [theme=dark] .colab-df-convert {\n",
              "      background-color: #3B4455;\n",
              "      fill: #D2E3FC;\n",
              "    }\n",
              "\n",
              "    [theme=dark] .colab-df-convert:hover {\n",
              "      background-color: #434B5C;\n",
              "      box-shadow: 0px 1px 3px 1px rgba(0, 0, 0, 0.15);\n",
              "      filter: drop-shadow(0px 1px 2px rgba(0, 0, 0, 0.3));\n",
              "      fill: #FFFFFF;\n",
              "    }\n",
              "  </style>\n",
              "\n",
              "      <script>\n",
              "        const buttonEl =\n",
              "          document.querySelector('#df-2c5a1ac9-b1aa-4793-b5fc-184b402f013d button.colab-df-convert');\n",
              "        buttonEl.style.display =\n",
              "          google.colab.kernel.accessAllowed ? 'block' : 'none';\n",
              "\n",
              "        async function convertToInteractive(key) {\n",
              "          const element = document.querySelector('#df-2c5a1ac9-b1aa-4793-b5fc-184b402f013d');\n",
              "          const dataTable =\n",
              "            await google.colab.kernel.invokeFunction('convertToInteractive',\n",
              "                                                     [key], {});\n",
              "          if (!dataTable) return;\n",
              "\n",
              "          const docLinkHtml = 'Like what you see? Visit the ' +\n",
              "            '<a target=\"_blank\" href=https://colab.research.google.com/notebooks/data_table.ipynb>data table notebook</a>'\n",
              "            + ' to learn more about interactive tables.';\n",
              "          element.innerHTML = '';\n",
              "          dataTable['output_type'] = 'display_data';\n",
              "          await google.colab.output.renderOutput(dataTable, element);\n",
              "          const docLink = document.createElement('div');\n",
              "          docLink.innerHTML = docLinkHtml;\n",
              "          element.appendChild(docLink);\n",
              "        }\n",
              "      </script>\n",
              "    </div>\n",
              "  </div>\n",
              "  "
            ]
          },
          "metadata": {},
          "execution_count": 424
        }
      ]
    },
    {
      "cell_type": "markdown",
      "metadata": {
        "id": "JaDw00V8Z-Lw"
      },
      "source": [
        "## 7. 做預測 (20分)"
      ]
    },
    {
      "cell_type": "code",
      "metadata": {
        "id": "vFf2lmOFElai"
      },
      "source": [
        "# 預測 Test data\n",
        "# 現在我們取出了選定公司最後seq_len天\n",
        "# 我們模型透過讀取seq_len天後預測出seq_len+1天的價格\n",
        "\n",
        "# 將日期保存在datas中 (list)\n",
        "# 將真實價格保存在real_prices中 (list)\n",
        "# 將預測價格保存在pred_prices中 (list) *注: 請填入經過正規化後的價格\n",
        "\n",
        "# input是一個經過**正規化**的真實價格list，請試著遍歷test_company來填滿上述三個list\n",
        "# 可以參考TextGeneration的generateWords function，概念一樣，但是這次input請全部都填入\"真實價格\"\n",
        "# 但是這次input請append \"真實價格\"\n",
        "# 但是這次input請append \"真實價格\"\n",
        "# 但是這次input請append \"真實價格\"\n",
        "# 但是這次input請append \"真實價格\"\n",
        "# 但是這次input請append \"真實價格\"\n",
        "\n",
        "init_price = company.iloc[-seq_len:,:][\"price\"].values\n",
        "dates = []\n",
        "real_prices = []\n",
        "pred_prices = []\n",
        "input = scalar.transform(init_price)\n",
        "\n",
        "# print(input)\n",
        "\n",
        "for index,row in test_company.iterrows():\n",
        "  # 我已經幫你把real_price和date放入list\n",
        "  real_price = row[\"price\"]\n",
        "  real_prices.append(real_price)\n",
        "  date = row[\"date\"]\n",
        "  dates.append(date)\n",
        "\n",
        "  # 參考步驟 (在for迴圈中) :\n",
        "  # 1. 把input轉**維度**成一個新變數next_input丟入model\n",
        "  # 2. 獲得的pred取出seq中最後一個時間點的output數值 (提示: [0,-1,0])\n",
        "  # 3. 把pred丟入pred_prices中\n",
        "  # 4. 把real_price經過transform_one轉換成小數點並加在input後面\n",
        "  # 5. 保持input長度為seq_len長 (也就是把最前面的數字踢掉)\n",
        "  ##########\n",
        "  # todo #\n",
        "  ##########\n",
        "\n",
        "  # 1. Expand the dimensions of input\n",
        "  next_input = tf.expand_dims(input, axis=0)\n",
        "  next_input = tf.expand_dims(next_input, axis=2)\n",
        "\n",
        "  # 2. Get last output value from pred\n",
        "  pred = model.predict(next_input)\n",
        "  pred_last_output = pred[0, -1]\n",
        "\n",
        "  # 3. Put the last pred output in to pred_prices\n",
        "  pred_prices.append(pred_last_output)\n",
        "\n",
        "  # 4. Put real_price which gone through transform_one in input\n",
        "  real_price = scalar.transform_one(real_price)\n",
        "  input.append(real_price)\n",
        "\n",
        "  # 5. Keep input and seq_len with same length\n",
        "  del(input[0])\n"
      ],
      "execution_count": null,
      "outputs": []
    },
    {
      "cell_type": "code",
      "metadata": {
        "id": "1TIRXmjWbbXq",
        "colab": {
          "base_uri": "https://localhost:8080/"
        },
        "outputId": "375798f6-555e-4fdf-be99-3e1e923f3b5c"
      },
      "source": [
        "print(f\"dates : {dates[:10]}\")\n",
        "print(f\"real_prices : {real_prices[:10]}\")\n",
        "print(f\"pred_prices : {pred_prices[:10]}\")"
      ],
      "execution_count": null,
      "outputs": [
        {
          "output_type": "stream",
          "name": "stdout",
          "text": [
            "dates : ['2021/2/1', '2021/2/2', '2021/2/3', '2021/2/4', '2021/2/5', '2021/2/17', '2021/2/18', '2021/2/19', '2021/2/22', '2021/2/23']\n",
            "real_prices : [611.0, 632.0, 630.0, 627.0, 632.0, 663.0, 660.0, 652.0, 650.0, 641.0]\n",
            "pred_prices : [0.9156342, 0.9007982, 0.8959254, 0.8954835, 0.9062278, 0.9255337, 0.9383676, 0.94425184, 0.9546085, 0.9685014]\n"
          ]
        }
      ]
    },
    {
      "cell_type": "markdown",
      "metadata": {
        "id": "cukTAdbxbGKN"
      },
      "source": [
        "* 預期結果:\n",
        "\n",
        "![](https://i.imgur.com/iXdMWD6.png)"
      ]
    },
    {
      "cell_type": "code",
      "metadata": {
        "id": "mAxyVvCsO1Ei",
        "colab": {
          "base_uri": "https://localhost:8080/",
          "height": 537
        },
        "outputId": "824ff8e6-872e-4a56-e57f-e3b92b1e3ce8"
      },
      "source": [
        "plt.figure(figsize=(16, 8))\n",
        "l1, = plt.plot(dates,real_prices)\n",
        "l2, = plt.plot(dates,scalar.recover(pred_prices))\n",
        "plt.xticks(list(include_last_iter(0,len(dates),3)),rotation=30)\n",
        "plt.legend(handles=[l1,l2],labels=['Real','Pred'],loc='best')\n",
        "plt.title(companys[str(company_id)])\n",
        "plt.xlabel(\"Date\")\n",
        "plt.ylabel(\"price\")\n",
        "plt.show()"
      ],
      "execution_count": null,
      "outputs": [
        {
          "output_type": "display_data",
          "data": {
            "text/plain": [
              "<Figure size 1152x576 with 1 Axes>"
            ],
            "image/png": "[encoded data removed]"
          },
          "metadata": {
            "needs_background": "light"
          }
        }
      ]
    },
    {
      "cell_type": "markdown",
      "metadata": {
        "id": "zXrQ1B1majO2"
      },
      "source": [
        "* 預期成果\n",
        "\n",
        "照理來說不會100%猜中，猜中幾乎100%可能是不小心偷看答案了。\n",
        "\n",
        "不過要是你的模型正確的話，應該會看到如下pred price在true price附近而不是躺在地上。\n",
        "\n",
        "![](https://i.imgur.com/tFoKEyK.png)"
      ]
    },
    {
      "cell_type": "code",
      "metadata": {
        "id": "MfTyTnnLuzGU"
      },
      "source": [
        ""
      ],
      "execution_count": null,
      "outputs": []
    }
  ]
}